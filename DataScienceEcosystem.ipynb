{
 "cells": [
  {
   "cell_type": "markdown",
   "id": "3c27312d-864e-4489-9069-46ad229ad8a1",
   "metadata": {},
   "source": [
    "# Data Science Tools and Ecosystem"
   ]
  },
  {
   "cell_type": "markdown",
   "id": "0f2ee4a8-b6ba-467f-85e7-83b7a6bf63a0",
   "metadata": {},
   "source": [
    "# Data Science Tools and Ecosystem"
   ]
  },
  {
   "cell_type": "markdown",
   "id": "d989127b-c371-4966-9e28-a2f46fb02e4c",
   "metadata": {},
   "source": [
    "In this notebook, Data Science Tools and Ecosystem are summarized."
   ]
  },
  {
   "cell_type": "markdown",
   "id": "e36d0d64-986c-43c0-86f2-c77e59f17144",
   "metadata": {},
   "source": [
    "In this notebook, Data Science Tools and Ecosystem are summarized."
   ]
  },
  {
   "cell_type": "markdown",
   "id": "0bfd7c30-0299-4485-baab-de1df6a77780",
   "metadata": {},
   "source": [
    "Some of the popular languages that Data Scientists use are:\n",
    "1. Python\n",
    "2. R\n",
    "3. SQL\n",
    "4. Julia"
   ]
  },
  {
   "cell_type": "markdown",
   "id": "d7d06b08-530d-4749-afa5-5ca893eb34bf",
   "metadata": {},
   "source": [
    "Some of the popular languages that Data Scientists use are:\n",
    "1. Python\n",
    "2. R\n",
    "3. SQL\n",
    "4. Julia"
   ]
  },
  {
   "cell_type": "markdown",
   "id": "1e4dc5c1-db0b-4912-938b-62c10f0501a9",
   "metadata": {
    "tags": []
   },
   "source": [
    "Some of the commonly used libraries used by Data Scientists include:\n",
    "1. pandas\n",
    "2. matplotlib\n",
    "3. ggplot\n",
    "4. scipy\n",
    "5. seaborn"
   ]
  },
  {
   "cell_type": "markdown",
   "id": "624a5cce-7611-43dc-afee-23b8938a2805",
   "metadata": {},
   "source": [
    "Some of the commonly used libraries used by Data Scientists include:\n",
    "1. pandas\n",
    "2. matplotlib\n",
    "3. ggplot\n",
    "4. scipy\n",
    "5. seaborn"
   ]
  },
  {
   "cell_type": "markdown",
   "id": "4e0f2b3c-1cd8-423e-a8d6-a30bb309ee95",
   "metadata": {},
   "source": [
    "|Data Science Tools|\n",
    "--------------------\n",
    "|jupyter notebook|\n",
    "|Rstudio|\n",
    "|Hadoop|\n",
    "|Apache Spark|"
   ]
  },
  {
   "cell_type": "markdown",
   "id": "1f576711-ed59-434b-a27e-e54d3e4539fc",
   "metadata": {
    "tags": []
   },
   "source": [
    "|Data Science Tools|\n",
    "--------------------\n",
    "|jupyter notebook|\n",
    "|Rstudio|\n",
    "|Hadoop|\n",
    "|Apache Spark|"
   ]
  },
  {
   "cell_type": "markdown",
   "id": "45b93992-cdb8-4602-9e9a-0a46024ca81b",
   "metadata": {},
   "source": [
    "### Below are a few examples of evaluating arithmetic expressions in Python"
   ]
  },
  {
   "cell_type": "markdown",
   "id": "5bb40c20-5998-431b-941b-1bb405ff99d3",
   "metadata": {},
   "source": [
    "### Below are a few examples of evaluating arithmetic expressions in Python"
   ]
  },
  {
   "cell_type": "code",
   "execution_count": 3,
   "id": "8191193f-d769-45b7-80e7-49ce56dd8afa",
   "metadata": {
    "tags": []
   },
   "outputs": [
    {
     "data": {
      "text/plain": [
       "17"
      ]
     },
     "execution_count": 3,
     "metadata": {},
     "output_type": "execute_result"
    }
   ],
   "source": [
    "# This a simple arithmetic expression to mutiply then add integers\n",
    "(3*4)+5\n"
   ]
  },
  {
   "cell_type": "code",
   "execution_count": 4,
   "id": "8b2afa3f-a84c-45ea-89c8-9fc32e2674e0",
   "metadata": {
    "tags": []
   },
   "outputs": [
    {
     "data": {
      "text/plain": [
       "3.3333333333333335"
      ]
     },
     "execution_count": 4,
     "metadata": {},
     "output_type": "execute_result"
    }
   ],
   "source": [
    "# This will convert 200 minutes to hours by diving by 60\n",
    "200/60"
   ]
  },
  {
   "cell_type": "markdown",
   "id": "245f122c-6a89-4a72-ad17-da55ec08a3d6",
   "metadata": {},
   "source": [
    "Objectives:\n",
    "* Listed popular languages for Data Science.\n",
    "* Listed popular tools for Data Science.\n",
    "* Evaluated an arithmetic expression.\n",
    "* Listed popular libraries used by a Data Scientist."
   ]
  },
  {
   "cell_type": "markdown",
   "id": "01ae4fa7-6999-421c-8a66-0be5bc662196",
   "metadata": {},
   "source": [
    "Objectives:\n",
    "* Listed popular languages for Data Science.\n",
    "* Listed popular tools for Data Science.\n",
    "* Evaluated an arithmetic expression.\n",
    "* Listed popular libraries used by a Data Scientist."
   ]
  },
  {
   "cell_type": "markdown",
   "id": "82ad9dd7-75d5-4550-b0c5-d9ee127f6d4a",
   "metadata": {
    "tags": []
   },
   "source": [
    "## Author\n",
    "Prudhvinath"
   ]
  },
  {
   "cell_type": "markdown",
   "id": "d28a4973-a284-49ce-952a-0fd05a3858a8",
   "metadata": {},
   "source": [
    "## Author\n",
    "Prudhvinath"
   ]
  },
  {
   "cell_type": "code",
   "execution_count": null,
   "id": "f8f32869-0285-4a4a-82cc-3fd3e0d5dbc5",
   "metadata": {},
   "outputs": [],
   "source": []
  }
 ],
 "metadata": {
  "kernelspec": {
   "display_name": "Python",
   "language": "python",
   "name": "conda-env-python-py"
  },
  "language_info": {
   "codemirror_mode": {
    "name": "ipython",
    "version": 3
   },
   "file_extension": ".py",
   "mimetype": "text/x-python",
   "name": "python",
   "nbconvert_exporter": "python",
   "pygments_lexer": "ipython3",
   "version": "3.7.12"
  }
 },
 "nbformat": 4,
 "nbformat_minor": 5
}
